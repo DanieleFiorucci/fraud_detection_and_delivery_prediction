{
  "cells": [
    {
      "attachments": {},
      "cell_type": "markdown",
      "metadata": {},
      "source": [
        "<a href=\"https://colab.research.google.com/github/giakomorssi/Deloitte_Project/blob/main/01_EDA.ipynb\" target=\"_parent\"><img src=\"https://colab.research.google.com/assets/colab-badge.svg\" alt=\"Open In Colab\"/></a>"
      ]
    },
    {
      "attachments": {},
      "cell_type": "markdown",
      "metadata": {
        "id": "meTbbt1j5tC2"
      },
      "source": [
        "# EDA\n"
      ]
    },
    {
      "cell_type": "code",
      "execution_count": 1,
      "metadata": {
        "id": "ftXBV282UuvS"
      },
      "outputs": [],
      "source": [
        "import matplotlib.pyplot as plt\n",
        "import seaborn as sns\n",
        "import numpy as np\n",
        "import pandas as pd"
      ]
    },
    {
      "cell_type": "code",
      "execution_count": 2,
      "metadata": {
        "id": "XuOAK04yUobq"
      },
      "outputs": [],
      "source": [
        "# change the path to load the file\n",
        "df = pd.read_csv('SupplyChainDataset.csv', encoding = 'latin-1')"
      ]
    },
    {
      "cell_type": "code",
      "execution_count": 3,
      "metadata": {
        "colab": {
          "base_uri": "https://localhost:8080/"
        },
        "id": "rIHuZguIUsk6",
        "outputId": "34a69939-ca5e-4985-dda8-abe09380cc5d"
      },
      "outputs": [
        {
          "data": {
            "text/plain": [
              "(180519, 53)"
            ]
          },
          "execution_count": 3,
          "metadata": {},
          "output_type": "execute_result"
        }
      ],
      "source": [
        "df.shape"
      ]
    },
    {
      "cell_type": "code",
      "execution_count": 4,
      "metadata": {
        "colab": {
          "base_uri": "https://localhost:8080/"
        },
        "id": "Q599iHV98dZq",
        "outputId": "3b4bd972-5395-421c-cf48-106afecc4ece"
      },
      "outputs": [
        {
          "name": "stdout",
          "output_type": "stream",
          "text": [
            "<class 'pandas.core.frame.DataFrame'>\n",
            "RangeIndex: 180519 entries, 0 to 180518\n",
            "Data columns (total 53 columns):\n",
            " #   Column                         Non-Null Count   Dtype  \n",
            "---  ------                         --------------   -----  \n",
            " 0   Type                           180519 non-null  object \n",
            " 1   Days for shipping (real)       180519 non-null  int64  \n",
            " 2   Days for shipment (scheduled)  180519 non-null  int64  \n",
            " 3   Benefit per order              180519 non-null  float64\n",
            " 4   Sales per customer             180519 non-null  float64\n",
            " 5   Delivery Status                180519 non-null  object \n",
            " 6   Late_delivery_risk             180519 non-null  int64  \n",
            " 7   Category Id                    180519 non-null  int64  \n",
            " 8   Category Name                  180519 non-null  object \n",
            " 9   Customer City                  180519 non-null  object \n",
            " 10  Customer Country               180519 non-null  object \n",
            " 11  Customer Email                 180519 non-null  object \n",
            " 12  Customer Fname                 180519 non-null  object \n",
            " 13  Customer Id                    180519 non-null  int64  \n",
            " 14  Customer Lname                 180511 non-null  object \n",
            " 15  Customer Password              180519 non-null  object \n",
            " 16  Customer Segment               180519 non-null  object \n",
            " 17  Customer State                 180519 non-null  object \n",
            " 18  Customer Street                180519 non-null  object \n",
            " 19  Customer Zipcode               180516 non-null  float64\n",
            " 20  Department Id                  180519 non-null  int64  \n",
            " 21  Department Name                180519 non-null  object \n",
            " 22  Latitude                       180519 non-null  float64\n",
            " 23  Longitude                      180519 non-null  float64\n",
            " 24  Market                         180519 non-null  object \n",
            " 25  Order City                     180519 non-null  object \n",
            " 26  Order Country                  180519 non-null  object \n",
            " 27  Order Customer Id              180519 non-null  int64  \n",
            " 28  order date (DateOrders)        180519 non-null  object \n",
            " 29  Order Id                       180519 non-null  int64  \n",
            " 30  Order Item Cardprod Id         180519 non-null  int64  \n",
            " 31  Order Item Discount            180519 non-null  float64\n",
            " 32  Order Item Discount Rate       180519 non-null  float64\n",
            " 33  Order Item Id                  180519 non-null  int64  \n",
            " 34  Order Item Product Price       180519 non-null  float64\n",
            " 35  Order Item Profit Ratio        180519 non-null  float64\n",
            " 36  Order Item Quantity            180519 non-null  int64  \n",
            " 37  Sales                          180519 non-null  float64\n",
            " 38  Order Item Total               180519 non-null  float64\n",
            " 39  Order Profit Per Order         180519 non-null  float64\n",
            " 40  Order Region                   180519 non-null  object \n",
            " 41  Order State                    180519 non-null  object \n",
            " 42  Order Status                   180519 non-null  object \n",
            " 43  Order Zipcode                  24840 non-null   float64\n",
            " 44  Product Card Id                180519 non-null  int64  \n",
            " 45  Product Category Id            180519 non-null  int64  \n",
            " 46  Product Description            0 non-null       float64\n",
            " 47  Product Image                  180519 non-null  object \n",
            " 48  Product Name                   180519 non-null  object \n",
            " 49  Product Price                  180519 non-null  float64\n",
            " 50  Product Status                 180519 non-null  int64  \n",
            " 51  shipping date (DateOrders)     180519 non-null  object \n",
            " 52  Shipping Mode                  180519 non-null  object \n",
            "dtypes: float64(15), int64(14), object(24)\n",
            "memory usage: 73.0+ MB\n"
          ]
        }
      ],
      "source": [
        "df.info()"
      ]
    },
    {
      "cell_type": "code",
      "execution_count": 5,
      "metadata": {
        "colab": {
          "base_uri": "https://localhost:8080/",
          "height": 513
        },
        "id": "bOcyA5k9VLb3",
        "outputId": "5534f8a2-b59c-4741-b916-80fffdbe339b"
      },
      "outputs": [
        {
          "data": {
            "text/html": [
              "<div>\n",
              "<style scoped>\n",
              "    .dataframe tbody tr th:only-of-type {\n",
              "        vertical-align: middle;\n",
              "    }\n",
              "\n",
              "    .dataframe tbody tr th {\n",
              "        vertical-align: top;\n",
              "    }\n",
              "\n",
              "    .dataframe thead th {\n",
              "        text-align: right;\n",
              "    }\n",
              "</style>\n",
              "<table border=\"1\" class=\"dataframe\">\n",
              "  <thead>\n",
              "    <tr style=\"text-align: right;\">\n",
              "      <th></th>\n",
              "      <th>Type</th>\n",
              "      <th>Days for shipping (real)</th>\n",
              "      <th>Days for shipment (scheduled)</th>\n",
              "      <th>Benefit per order</th>\n",
              "      <th>Sales per customer</th>\n",
              "      <th>Delivery Status</th>\n",
              "      <th>Late_delivery_risk</th>\n",
              "      <th>Category Id</th>\n",
              "      <th>Category Name</th>\n",
              "      <th>Customer City</th>\n",
              "      <th>...</th>\n",
              "      <th>Order Zipcode</th>\n",
              "      <th>Product Card Id</th>\n",
              "      <th>Product Category Id</th>\n",
              "      <th>Product Description</th>\n",
              "      <th>Product Image</th>\n",
              "      <th>Product Name</th>\n",
              "      <th>Product Price</th>\n",
              "      <th>Product Status</th>\n",
              "      <th>shipping date (DateOrders)</th>\n",
              "      <th>Shipping Mode</th>\n",
              "    </tr>\n",
              "  </thead>\n",
              "  <tbody>\n",
              "    <tr>\n",
              "      <th>0</th>\n",
              "      <td>DEBIT</td>\n",
              "      <td>3</td>\n",
              "      <td>4</td>\n",
              "      <td>91.250000</td>\n",
              "      <td>314.640015</td>\n",
              "      <td>Advance shipping</td>\n",
              "      <td>0</td>\n",
              "      <td>73</td>\n",
              "      <td>Sporting Goods</td>\n",
              "      <td>Caguas</td>\n",
              "      <td>...</td>\n",
              "      <td>NaN</td>\n",
              "      <td>1360</td>\n",
              "      <td>73</td>\n",
              "      <td>NaN</td>\n",
              "      <td>http://images.acmesports.sports/Smart+watch</td>\n",
              "      <td>Smart watch</td>\n",
              "      <td>327.75</td>\n",
              "      <td>0</td>\n",
              "      <td>2/3/2018 22:56</td>\n",
              "      <td>Standard Class</td>\n",
              "    </tr>\n",
              "    <tr>\n",
              "      <th>1</th>\n",
              "      <td>TRANSFER</td>\n",
              "      <td>5</td>\n",
              "      <td>4</td>\n",
              "      <td>-249.089996</td>\n",
              "      <td>311.359985</td>\n",
              "      <td>Late delivery</td>\n",
              "      <td>1</td>\n",
              "      <td>73</td>\n",
              "      <td>Sporting Goods</td>\n",
              "      <td>Caguas</td>\n",
              "      <td>...</td>\n",
              "      <td>NaN</td>\n",
              "      <td>1360</td>\n",
              "      <td>73</td>\n",
              "      <td>NaN</td>\n",
              "      <td>http://images.acmesports.sports/Smart+watch</td>\n",
              "      <td>Smart watch</td>\n",
              "      <td>327.75</td>\n",
              "      <td>0</td>\n",
              "      <td>1/18/2018 12:27</td>\n",
              "      <td>Standard Class</td>\n",
              "    </tr>\n",
              "    <tr>\n",
              "      <th>2</th>\n",
              "      <td>CASH</td>\n",
              "      <td>4</td>\n",
              "      <td>4</td>\n",
              "      <td>-247.779999</td>\n",
              "      <td>309.720001</td>\n",
              "      <td>Shipping on time</td>\n",
              "      <td>0</td>\n",
              "      <td>73</td>\n",
              "      <td>Sporting Goods</td>\n",
              "      <td>San Jose</td>\n",
              "      <td>...</td>\n",
              "      <td>NaN</td>\n",
              "      <td>1360</td>\n",
              "      <td>73</td>\n",
              "      <td>NaN</td>\n",
              "      <td>http://images.acmesports.sports/Smart+watch</td>\n",
              "      <td>Smart watch</td>\n",
              "      <td>327.75</td>\n",
              "      <td>0</td>\n",
              "      <td>1/17/2018 12:06</td>\n",
              "      <td>Standard Class</td>\n",
              "    </tr>\n",
              "    <tr>\n",
              "      <th>3</th>\n",
              "      <td>DEBIT</td>\n",
              "      <td>3</td>\n",
              "      <td>4</td>\n",
              "      <td>22.860001</td>\n",
              "      <td>304.809998</td>\n",
              "      <td>Advance shipping</td>\n",
              "      <td>0</td>\n",
              "      <td>73</td>\n",
              "      <td>Sporting Goods</td>\n",
              "      <td>Los Angeles</td>\n",
              "      <td>...</td>\n",
              "      <td>NaN</td>\n",
              "      <td>1360</td>\n",
              "      <td>73</td>\n",
              "      <td>NaN</td>\n",
              "      <td>http://images.acmesports.sports/Smart+watch</td>\n",
              "      <td>Smart watch</td>\n",
              "      <td>327.75</td>\n",
              "      <td>0</td>\n",
              "      <td>1/16/2018 11:45</td>\n",
              "      <td>Standard Class</td>\n",
              "    </tr>\n",
              "    <tr>\n",
              "      <th>4</th>\n",
              "      <td>PAYMENT</td>\n",
              "      <td>2</td>\n",
              "      <td>4</td>\n",
              "      <td>134.210007</td>\n",
              "      <td>298.250000</td>\n",
              "      <td>Advance shipping</td>\n",
              "      <td>0</td>\n",
              "      <td>73</td>\n",
              "      <td>Sporting Goods</td>\n",
              "      <td>Caguas</td>\n",
              "      <td>...</td>\n",
              "      <td>NaN</td>\n",
              "      <td>1360</td>\n",
              "      <td>73</td>\n",
              "      <td>NaN</td>\n",
              "      <td>http://images.acmesports.sports/Smart+watch</td>\n",
              "      <td>Smart watch</td>\n",
              "      <td>327.75</td>\n",
              "      <td>0</td>\n",
              "      <td>1/15/2018 11:24</td>\n",
              "      <td>Standard Class</td>\n",
              "    </tr>\n",
              "  </tbody>\n",
              "</table>\n",
              "<p>5 rows × 53 columns</p>\n",
              "</div>"
            ],
            "text/plain": [
              "       Type  Days for shipping (real)  Days for shipment (scheduled)  \\\n",
              "0     DEBIT                         3                              4   \n",
              "1  TRANSFER                         5                              4   \n",
              "2      CASH                         4                              4   \n",
              "3     DEBIT                         3                              4   \n",
              "4   PAYMENT                         2                              4   \n",
              "\n",
              "   Benefit per order  Sales per customer   Delivery Status  \\\n",
              "0          91.250000          314.640015  Advance shipping   \n",
              "1        -249.089996          311.359985     Late delivery   \n",
              "2        -247.779999          309.720001  Shipping on time   \n",
              "3          22.860001          304.809998  Advance shipping   \n",
              "4         134.210007          298.250000  Advance shipping   \n",
              "\n",
              "   Late_delivery_risk  Category Id   Category Name Customer City  ...  \\\n",
              "0                   0           73  Sporting Goods        Caguas  ...   \n",
              "1                   1           73  Sporting Goods        Caguas  ...   \n",
              "2                   0           73  Sporting Goods      San Jose  ...   \n",
              "3                   0           73  Sporting Goods   Los Angeles  ...   \n",
              "4                   0           73  Sporting Goods        Caguas  ...   \n",
              "\n",
              "  Order Zipcode Product Card Id Product Category Id  Product Description  \\\n",
              "0           NaN            1360                  73                  NaN   \n",
              "1           NaN            1360                  73                  NaN   \n",
              "2           NaN            1360                  73                  NaN   \n",
              "3           NaN            1360                  73                  NaN   \n",
              "4           NaN            1360                  73                  NaN   \n",
              "\n",
              "                                  Product Image  Product Name Product Price  \\\n",
              "0  http://images.acmesports.sports/Smart+watch   Smart watch         327.75   \n",
              "1  http://images.acmesports.sports/Smart+watch   Smart watch         327.75   \n",
              "2  http://images.acmesports.sports/Smart+watch   Smart watch         327.75   \n",
              "3  http://images.acmesports.sports/Smart+watch   Smart watch         327.75   \n",
              "4  http://images.acmesports.sports/Smart+watch   Smart watch         327.75   \n",
              "\n",
              "  Product Status shipping date (DateOrders)   Shipping Mode  \n",
              "0              0             2/3/2018 22:56  Standard Class  \n",
              "1              0            1/18/2018 12:27  Standard Class  \n",
              "2              0            1/17/2018 12:06  Standard Class  \n",
              "3              0            1/16/2018 11:45  Standard Class  \n",
              "4              0            1/15/2018 11:24  Standard Class  \n",
              "\n",
              "[5 rows x 53 columns]"
            ]
          },
          "execution_count": 5,
          "metadata": {},
          "output_type": "execute_result"
        }
      ],
      "source": [
        "df.head()"
      ]
    },
    {
      "cell_type": "code",
      "execution_count": 6,
      "metadata": {
        "colab": {
          "base_uri": "https://localhost:8080/"
        },
        "id": "pVbCSlpJVMwW",
        "outputId": "66641b9f-32b2-4771-d23d-5ae22acfb626"
      },
      "outputs": [
        {
          "data": {
            "text/plain": [
              "Index(['Type', 'Days for shipping (real)', 'Days for shipment (scheduled)',\n",
              "       'Benefit per order', 'Sales per customer', 'Delivery Status',\n",
              "       'Late_delivery_risk', 'Category Id', 'Category Name', 'Customer City',\n",
              "       'Customer Country', 'Customer Email', 'Customer Fname', 'Customer Id',\n",
              "       'Customer Lname', 'Customer Password', 'Customer Segment',\n",
              "       'Customer State', 'Customer Street', 'Customer Zipcode',\n",
              "       'Department Id', 'Department Name', 'Latitude', 'Longitude', 'Market',\n",
              "       'Order City', 'Order Country', 'Order Customer Id',\n",
              "       'order date (DateOrders)', 'Order Id', 'Order Item Cardprod Id',\n",
              "       'Order Item Discount', 'Order Item Discount Rate', 'Order Item Id',\n",
              "       'Order Item Product Price', 'Order Item Profit Ratio',\n",
              "       'Order Item Quantity', 'Sales', 'Order Item Total',\n",
              "       'Order Profit Per Order', 'Order Region', 'Order State', 'Order Status',\n",
              "       'Order Zipcode', 'Product Card Id', 'Product Category Id',\n",
              "       'Product Description', 'Product Image', 'Product Name', 'Product Price',\n",
              "       'Product Status', 'shipping date (DateOrders)', 'Shipping Mode'],\n",
              "      dtype='object')"
            ]
          },
          "execution_count": 6,
          "metadata": {},
          "output_type": "execute_result"
        }
      ],
      "source": [
        "df.columns"
      ]
    },
    {
      "cell_type": "code",
      "execution_count": 7,
      "metadata": {
        "colab": {
          "base_uri": "https://localhost:8080/"
        },
        "id": "XzacjSPIVOX_",
        "outputId": "523ae610-dacb-4eb6-bc9e-5e0d84c3fc72"
      },
      "outputs": [
        {
          "data": {
            "text/plain": [
              "Type                                  4\n",
              "Days for shipping (real)              7\n",
              "Days for shipment (scheduled)         4\n",
              "Benefit per order                 21998\n",
              "Sales per customer                 2927\n",
              "Delivery Status                       4\n",
              "Late_delivery_risk                    2\n",
              "Category Id                          51\n",
              "Category Name                        50\n",
              "Customer City                       563\n",
              "Customer Country                      2\n",
              "Customer Email                        1\n",
              "Customer Fname                      782\n",
              "Customer Id                       20652\n",
              "Customer Lname                     1109\n",
              "Customer Password                     1\n",
              "Customer Segment                      3\n",
              "Customer State                       46\n",
              "Customer Street                    7458\n",
              "Customer Zipcode                    995\n",
              "Department Id                        11\n",
              "Department Name                      11\n",
              "Latitude                          11250\n",
              "Longitude                          4487\n",
              "Market                                5\n",
              "Order City                         3597\n",
              "Order Country                       164\n",
              "Order Customer Id                 20652\n",
              "order date (DateOrders)           65752\n",
              "Order Id                          65752\n",
              "Order Item Cardprod Id              118\n",
              "Order Item Discount                1017\n",
              "Order Item Discount Rate             18\n",
              "Order Item Id                    180519\n",
              "Order Item Product Price             75\n",
              "Order Item Profit Ratio             162\n",
              "Order Item Quantity                   5\n",
              "Sales                               193\n",
              "Order Item Total                   2927\n",
              "Order Profit Per Order            21998\n",
              "Order Region                         23\n",
              "Order State                        1089\n",
              "Order Status                          9\n",
              "Order Zipcode                       609\n",
              "Product Card Id                     118\n",
              "Product Category Id                  51\n",
              "Product Description                   0\n",
              "Product Image                       118\n",
              "Product Name                        118\n",
              "Product Price                        75\n",
              "Product Status                        1\n",
              "shipping date (DateOrders)        63701\n",
              "Shipping Mode                         4\n",
              "dtype: int64"
            ]
          },
          "execution_count": 7,
          "metadata": {},
          "output_type": "execute_result"
        }
      ],
      "source": [
        "df.nunique(axis=0)"
      ]
    },
    {
      "cell_type": "code",
      "execution_count": 8,
      "metadata": {
        "colab": {
          "base_uri": "https://localhost:8080/",
          "height": 399
        },
        "id": "-f2A0b63VQE1",
        "outputId": "744087f5-8c62-4531-d7c0-436ed3bc2c3f"
      },
      "outputs": [
        {
          "data": {
            "text/html": [
              "<div>\n",
              "<style scoped>\n",
              "    .dataframe tbody tr th:only-of-type {\n",
              "        vertical-align: middle;\n",
              "    }\n",
              "\n",
              "    .dataframe tbody tr th {\n",
              "        vertical-align: top;\n",
              "    }\n",
              "\n",
              "    .dataframe thead th {\n",
              "        text-align: right;\n",
              "    }\n",
              "</style>\n",
              "<table border=\"1\" class=\"dataframe\">\n",
              "  <thead>\n",
              "    <tr style=\"text-align: right;\">\n",
              "      <th></th>\n",
              "      <th>Days for shipping (real)</th>\n",
              "      <th>Days for shipment (scheduled)</th>\n",
              "      <th>Benefit per order</th>\n",
              "      <th>Sales per customer</th>\n",
              "      <th>Late_delivery_risk</th>\n",
              "      <th>Category Id</th>\n",
              "      <th>Customer Id</th>\n",
              "      <th>Customer Zipcode</th>\n",
              "      <th>Department Id</th>\n",
              "      <th>Latitude</th>\n",
              "      <th>...</th>\n",
              "      <th>Order Item Quantity</th>\n",
              "      <th>Sales</th>\n",
              "      <th>Order Item Total</th>\n",
              "      <th>Order Profit Per Order</th>\n",
              "      <th>Order Zipcode</th>\n",
              "      <th>Product Card Id</th>\n",
              "      <th>Product Category Id</th>\n",
              "      <th>Product Description</th>\n",
              "      <th>Product Price</th>\n",
              "      <th>Product Status</th>\n",
              "    </tr>\n",
              "  </thead>\n",
              "  <tbody>\n",
              "    <tr>\n",
              "      <th>count</th>\n",
              "      <td>180519.000000</td>\n",
              "      <td>180519.000000</td>\n",
              "      <td>180519.000000</td>\n",
              "      <td>180519.000000</td>\n",
              "      <td>180519.000000</td>\n",
              "      <td>180519.000000</td>\n",
              "      <td>180519.000000</td>\n",
              "      <td>180516.000000</td>\n",
              "      <td>180519.000000</td>\n",
              "      <td>180519.000000</td>\n",
              "      <td>...</td>\n",
              "      <td>180519.000000</td>\n",
              "      <td>180519.000000</td>\n",
              "      <td>180519.000000</td>\n",
              "      <td>180519.000000</td>\n",
              "      <td>24840.000000</td>\n",
              "      <td>180519.000000</td>\n",
              "      <td>180519.000000</td>\n",
              "      <td>0.000000</td>\n",
              "      <td>180519.000000</td>\n",
              "      <td>180519.000000</td>\n",
              "    </tr>\n",
              "    <tr>\n",
              "      <th>mean</th>\n",
              "      <td>3.497654</td>\n",
              "      <td>2.931847</td>\n",
              "      <td>21.974989</td>\n",
              "      <td>183.107609</td>\n",
              "      <td>0.548291</td>\n",
              "      <td>31.851451</td>\n",
              "      <td>6691.379495</td>\n",
              "      <td>35921.126914</td>\n",
              "      <td>5.443460</td>\n",
              "      <td>29.719955</td>\n",
              "      <td>...</td>\n",
              "      <td>2.127638</td>\n",
              "      <td>203.772096</td>\n",
              "      <td>183.107609</td>\n",
              "      <td>21.974989</td>\n",
              "      <td>55426.132327</td>\n",
              "      <td>692.509764</td>\n",
              "      <td>31.851451</td>\n",
              "      <td>nan</td>\n",
              "      <td>141.232550</td>\n",
              "      <td>0.000000</td>\n",
              "    </tr>\n",
              "    <tr>\n",
              "      <th>std</th>\n",
              "      <td>1.623722</td>\n",
              "      <td>1.374449</td>\n",
              "      <td>104.433526</td>\n",
              "      <td>120.043670</td>\n",
              "      <td>0.497664</td>\n",
              "      <td>15.640064</td>\n",
              "      <td>4162.918106</td>\n",
              "      <td>37542.461122</td>\n",
              "      <td>1.629246</td>\n",
              "      <td>9.813646</td>\n",
              "      <td>...</td>\n",
              "      <td>1.453451</td>\n",
              "      <td>132.273077</td>\n",
              "      <td>120.043670</td>\n",
              "      <td>104.433526</td>\n",
              "      <td>31919.279101</td>\n",
              "      <td>336.446807</td>\n",
              "      <td>15.640064</td>\n",
              "      <td>nan</td>\n",
              "      <td>139.732492</td>\n",
              "      <td>0.000000</td>\n",
              "    </tr>\n",
              "    <tr>\n",
              "      <th>min</th>\n",
              "      <td>0.000000</td>\n",
              "      <td>0.000000</td>\n",
              "      <td>-4274.979980</td>\n",
              "      <td>7.490000</td>\n",
              "      <td>0.000000</td>\n",
              "      <td>2.000000</td>\n",
              "      <td>1.000000</td>\n",
              "      <td>603.000000</td>\n",
              "      <td>2.000000</td>\n",
              "      <td>-33.937553</td>\n",
              "      <td>...</td>\n",
              "      <td>1.000000</td>\n",
              "      <td>9.990000</td>\n",
              "      <td>7.490000</td>\n",
              "      <td>-4274.979980</td>\n",
              "      <td>1040.000000</td>\n",
              "      <td>19.000000</td>\n",
              "      <td>2.000000</td>\n",
              "      <td>nan</td>\n",
              "      <td>9.990000</td>\n",
              "      <td>0.000000</td>\n",
              "    </tr>\n",
              "    <tr>\n",
              "      <th>25%</th>\n",
              "      <td>2.000000</td>\n",
              "      <td>2.000000</td>\n",
              "      <td>7.000000</td>\n",
              "      <td>104.379997</td>\n",
              "      <td>0.000000</td>\n",
              "      <td>18.000000</td>\n",
              "      <td>3258.500000</td>\n",
              "      <td>725.000000</td>\n",
              "      <td>4.000000</td>\n",
              "      <td>18.265432</td>\n",
              "      <td>...</td>\n",
              "      <td>1.000000</td>\n",
              "      <td>119.980003</td>\n",
              "      <td>104.379997</td>\n",
              "      <td>7.000000</td>\n",
              "      <td>23464.000000</td>\n",
              "      <td>403.000000</td>\n",
              "      <td>18.000000</td>\n",
              "      <td>nan</td>\n",
              "      <td>50.000000</td>\n",
              "      <td>0.000000</td>\n",
              "    </tr>\n",
              "    <tr>\n",
              "      <th>50%</th>\n",
              "      <td>3.000000</td>\n",
              "      <td>4.000000</td>\n",
              "      <td>31.520000</td>\n",
              "      <td>163.990005</td>\n",
              "      <td>1.000000</td>\n",
              "      <td>29.000000</td>\n",
              "      <td>6457.000000</td>\n",
              "      <td>19380.000000</td>\n",
              "      <td>5.000000</td>\n",
              "      <td>33.144863</td>\n",
              "      <td>...</td>\n",
              "      <td>1.000000</td>\n",
              "      <td>199.919998</td>\n",
              "      <td>163.990005</td>\n",
              "      <td>31.520000</td>\n",
              "      <td>59405.000000</td>\n",
              "      <td>627.000000</td>\n",
              "      <td>29.000000</td>\n",
              "      <td>nan</td>\n",
              "      <td>59.990002</td>\n",
              "      <td>0.000000</td>\n",
              "    </tr>\n",
              "    <tr>\n",
              "      <th>75%</th>\n",
              "      <td>5.000000</td>\n",
              "      <td>4.000000</td>\n",
              "      <td>64.800003</td>\n",
              "      <td>247.399994</td>\n",
              "      <td>1.000000</td>\n",
              "      <td>45.000000</td>\n",
              "      <td>9779.000000</td>\n",
              "      <td>78207.000000</td>\n",
              "      <td>7.000000</td>\n",
              "      <td>39.279617</td>\n",
              "      <td>...</td>\n",
              "      <td>3.000000</td>\n",
              "      <td>299.950012</td>\n",
              "      <td>247.399994</td>\n",
              "      <td>64.800003</td>\n",
              "      <td>90008.000000</td>\n",
              "      <td>1004.000000</td>\n",
              "      <td>45.000000</td>\n",
              "      <td>nan</td>\n",
              "      <td>199.990005</td>\n",
              "      <td>0.000000</td>\n",
              "    </tr>\n",
              "    <tr>\n",
              "      <th>max</th>\n",
              "      <td>6.000000</td>\n",
              "      <td>4.000000</td>\n",
              "      <td>911.799988</td>\n",
              "      <td>1939.989990</td>\n",
              "      <td>1.000000</td>\n",
              "      <td>76.000000</td>\n",
              "      <td>20757.000000</td>\n",
              "      <td>99205.000000</td>\n",
              "      <td>12.000000</td>\n",
              "      <td>48.781933</td>\n",
              "      <td>...</td>\n",
              "      <td>5.000000</td>\n",
              "      <td>1999.989990</td>\n",
              "      <td>1939.989990</td>\n",
              "      <td>911.799988</td>\n",
              "      <td>99301.000000</td>\n",
              "      <td>1363.000000</td>\n",
              "      <td>76.000000</td>\n",
              "      <td>nan</td>\n",
              "      <td>1999.989990</td>\n",
              "      <td>0.000000</td>\n",
              "    </tr>\n",
              "  </tbody>\n",
              "</table>\n",
              "<p>8 rows × 29 columns</p>\n",
              "</div>"
            ],
            "text/plain": [
              "      Days for shipping (real) Days for shipment (scheduled)  \\\n",
              "count            180519.000000                 180519.000000   \n",
              "mean                  3.497654                      2.931847   \n",
              "std                   1.623722                      1.374449   \n",
              "min                   0.000000                      0.000000   \n",
              "25%                   2.000000                      2.000000   \n",
              "50%                   3.000000                      4.000000   \n",
              "75%                   5.000000                      4.000000   \n",
              "max                   6.000000                      4.000000   \n",
              "\n",
              "      Benefit per order Sales per customer Late_delivery_risk    Category Id  \\\n",
              "count     180519.000000      180519.000000      180519.000000  180519.000000   \n",
              "mean          21.974989         183.107609           0.548291      31.851451   \n",
              "std          104.433526         120.043670           0.497664      15.640064   \n",
              "min        -4274.979980           7.490000           0.000000       2.000000   \n",
              "25%            7.000000         104.379997           0.000000      18.000000   \n",
              "50%           31.520000         163.990005           1.000000      29.000000   \n",
              "75%           64.800003         247.399994           1.000000      45.000000   \n",
              "max          911.799988        1939.989990           1.000000      76.000000   \n",
              "\n",
              "         Customer Id Customer Zipcode  Department Id       Latitude  ...  \\\n",
              "count  180519.000000    180516.000000  180519.000000  180519.000000  ...   \n",
              "mean     6691.379495     35921.126914       5.443460      29.719955  ...   \n",
              "std      4162.918106     37542.461122       1.629246       9.813646  ...   \n",
              "min         1.000000       603.000000       2.000000     -33.937553  ...   \n",
              "25%      3258.500000       725.000000       4.000000      18.265432  ...   \n",
              "50%      6457.000000     19380.000000       5.000000      33.144863  ...   \n",
              "75%      9779.000000     78207.000000       7.000000      39.279617  ...   \n",
              "max     20757.000000     99205.000000      12.000000      48.781933  ...   \n",
              "\n",
              "      Order Item Quantity          Sales Order Item Total  \\\n",
              "count       180519.000000  180519.000000    180519.000000   \n",
              "mean             2.127638     203.772096       183.107609   \n",
              "std              1.453451     132.273077       120.043670   \n",
              "min              1.000000       9.990000         7.490000   \n",
              "25%              1.000000     119.980003       104.379997   \n",
              "50%              1.000000     199.919998       163.990005   \n",
              "75%              3.000000     299.950012       247.399994   \n",
              "max              5.000000    1999.989990      1939.989990   \n",
              "\n",
              "      Order Profit Per Order Order Zipcode Product Card Id  \\\n",
              "count          180519.000000  24840.000000   180519.000000   \n",
              "mean               21.974989  55426.132327      692.509764   \n",
              "std               104.433526  31919.279101      336.446807   \n",
              "min             -4274.979980   1040.000000       19.000000   \n",
              "25%                 7.000000  23464.000000      403.000000   \n",
              "50%                31.520000  59405.000000      627.000000   \n",
              "75%                64.800003  90008.000000     1004.000000   \n",
              "max               911.799988  99301.000000     1363.000000   \n",
              "\n",
              "      Product Category Id Product Description  Product Price Product Status  \n",
              "count       180519.000000            0.000000  180519.000000  180519.000000  \n",
              "mean            31.851451                 nan     141.232550       0.000000  \n",
              "std             15.640064                 nan     139.732492       0.000000  \n",
              "min              2.000000                 nan       9.990000       0.000000  \n",
              "25%             18.000000                 nan      50.000000       0.000000  \n",
              "50%             29.000000                 nan      59.990002       0.000000  \n",
              "75%             45.000000                 nan     199.990005       0.000000  \n",
              "max             76.000000                 nan    1999.989990       0.000000  \n",
              "\n",
              "[8 rows x 29 columns]"
            ]
          },
          "execution_count": 8,
          "metadata": {},
          "output_type": "execute_result"
        }
      ],
      "source": [
        "df.describe().apply(lambda s: s.apply(lambda x: format(x, 'f')))"
      ]
    },
    {
      "cell_type": "code",
      "execution_count": 9,
      "metadata": {
        "colab": {
          "base_uri": "https://localhost:8080/"
        },
        "id": "AxeTLAHRVRr4",
        "outputId": "751cf90f-07b8-4273-b418-683e46ab5fe0"
      },
      "outputs": [
        {
          "name": "stdout",
          "output_type": "stream",
          "text": [
            "There are no null values\n",
            "There are no null values\n",
            "There are no null values\n",
            "There are no null values\n",
            "There are no null values\n",
            "There are no null values\n",
            "There are no null values\n",
            "There are no null values\n",
            "There are no null values\n",
            "There are no null values\n",
            "There are no null values\n",
            "There are no null values\n",
            "There are no null values\n",
            "There are no null values\n",
            "The Column `Customer Lname` has 8 null values\n",
            "There are no null values\n",
            "There are no null values\n",
            "There are no null values\n",
            "There are no null values\n",
            "The Column `Customer Zipcode` has 3 null values\n",
            "There are no null values\n",
            "There are no null values\n",
            "There are no null values\n",
            "There are no null values\n",
            "There are no null values\n",
            "There are no null values\n",
            "There are no null values\n",
            "There are no null values\n",
            "There are no null values\n",
            "There are no null values\n",
            "There are no null values\n",
            "There are no null values\n",
            "There are no null values\n",
            "There are no null values\n",
            "There are no null values\n",
            "There are no null values\n",
            "There are no null values\n",
            "There are no null values\n",
            "There are no null values\n",
            "There are no null values\n",
            "There are no null values\n",
            "There are no null values\n",
            "There are no null values\n",
            "The Column `Order Zipcode` has 155679 null values\n",
            "There are no null values\n",
            "There are no null values\n",
            "The Column `Product Description` has 180519 null values\n",
            "There are no null values\n",
            "There are no null values\n",
            "There are no null values\n",
            "There are no null values\n",
            "There are no null values\n",
            "There are no null values\n"
          ]
        }
      ],
      "source": [
        "null_counts = df.isna().sum()\n",
        "\n",
        "for i, j in enumerate(range(len(null_counts))):\n",
        "  if null_counts[i].sum() == 0:\n",
        "      print('There are no null values')\n",
        "  else:\n",
        "      print(f'The Column `{df.columns[j]}` has {null_counts[i]} null values')"
      ]
    },
    {
      "cell_type": "code",
      "execution_count": 10,
      "metadata": {
        "colab": {
          "base_uri": "https://localhost:8080/"
        },
        "id": "J-H0uZ_SVYtb",
        "outputId": "075ab201-b9dc-4b36-df6b-db8a34c5f59a"
      },
      "outputs": [
        {
          "name": "stdout",
          "output_type": "stream",
          "text": [
            "The following columns have the exact same values:\n",
            "- Benefit per order and Order Profit Per Order\n",
            "- Sales per customer and Order Item Total\n",
            "- Category Id and Product Category Id\n",
            "- Customer Email and Customer Password\n",
            "- Customer Id and Order Customer Id\n",
            "- Customer Password and Customer Email\n",
            "- Order Customer Id and Customer Id\n",
            "- Order Item Cardprod Id and Product Card Id\n",
            "- Order Item Product Price and Product Price\n",
            "- Order Item Total and Sales per customer\n",
            "- Order Profit Per Order and Benefit per order\n",
            "- Product Card Id and Order Item Cardprod Id\n",
            "- Product Category Id and Category Id\n",
            "- Product Price and Order Item Product Price\n"
          ]
        }
      ],
      "source": [
        "# Find columns with identical values\n",
        "duplicate_cols = []\n",
        "for col1 in df.columns:\n",
        "    for col2 in df.columns:\n",
        "        if col1 != col2 and df[col1].equals(df[col2]):\n",
        "            duplicate_cols.append((col1, col2))\n",
        "\n",
        "# Print the results\n",
        "if len(duplicate_cols) > 0:\n",
        "    print(\"The following columns have the exact same values:\")\n",
        "    for col1, col2 in duplicate_cols:\n",
        "        print(f\"- {col1} and {col2}\")\n",
        "else:\n",
        "    print(\"No columns have the exact same values.\")"
      ]
    },
    {
      "cell_type": "code",
      "execution_count": 11,
      "metadata": {
        "id": "Uoqk_cEGVae4"
      },
      "outputs": [],
      "source": [
        "df.drop(['Product Description', 'Order Zipcode', 'Order Profit Per Order', \n",
        "         'Customer Email', 'Customer Password', 'Customer Country', 'Customer Id', \n",
        "         'Customer Fname', 'Customer Lname', 'Customer Street', 'Order Country', \n",
        "         'Product Card Id', 'Product Category Id', 'Product Image', \n",
        "         'Customer State', 'Customer Zipcode', 'Order Item Total', 'Order Customer Id', \n",
        "         'Order State', 'Product Name', 'Category Id', 'Order Id',\t'Order Item Cardprod Id', \n",
        "         'Order Item Id', 'Order Region', 'Category Name', 'Department Id'], \n",
        "        axis = 1, inplace = True)"
      ]
    },
    {
      "cell_type": "code",
      "execution_count": 12,
      "metadata": {
        "colab": {
          "base_uri": "https://localhost:8080/"
        },
        "id": "dtAwgJqJVcfX",
        "outputId": "6a33eb07-3bb0-42d5-f01e-bbed91d24c02"
      },
      "outputs": [
        {
          "name": "stdout",
          "output_type": "stream",
          "text": [
            "There are no null values\n"
          ]
        }
      ],
      "source": [
        "null_counts = df.isna().sum()\n",
        "\n",
        "if null_counts.sum() == 0:\n",
        "    print('There are no null values')\n",
        "else:\n",
        "    print(null_counts)"
      ]
    },
    {
      "cell_type": "code",
      "execution_count": 13,
      "metadata": {
        "colab": {
          "base_uri": "https://localhost:8080/"
        },
        "id": "oxGu98clVj09",
        "outputId": "19bdd58a-93b1-44e2-c815-6adfaf449db9"
      },
      "outputs": [
        {
          "data": {
            "text/plain": [
              "Type                              object\n",
              "Days for shipping (real)           int64\n",
              "Days for shipment (scheduled)      int64\n",
              "Benefit per order                float64\n",
              "Sales per customer               float64\n",
              "Delivery Status                   object\n",
              "Late_delivery_risk                 int64\n",
              "Customer City                     object\n",
              "Customer Segment                  object\n",
              "Department Name                   object\n",
              "Latitude                         float64\n",
              "Longitude                        float64\n",
              "Market                            object\n",
              "Order City                        object\n",
              "order date (DateOrders)           object\n",
              "Order Item Discount              float64\n",
              "Order Item Discount Rate         float64\n",
              "Order Item Product Price         float64\n",
              "Order Item Profit Ratio          float64\n",
              "Order Item Quantity                int64\n",
              "Sales                            float64\n",
              "Order Status                      object\n",
              "Product Price                    float64\n",
              "Product Status                     int64\n",
              "shipping date (DateOrders)        object\n",
              "Shipping Mode                     object\n",
              "dtype: object"
            ]
          },
          "execution_count": 13,
          "metadata": {},
          "output_type": "execute_result"
        }
      ],
      "source": [
        "df.dtypes"
      ]
    },
    {
      "cell_type": "code",
      "execution_count": 14,
      "metadata": {
        "id": "Xyy5Se_YLc8F"
      },
      "outputs": [],
      "source": [
        "# export this data\n",
        "df.to_csv('SupplyChainDataset_eda.csv', index=False)"
      ]
    },
    {
      "cell_type": "code",
      "execution_count": 15,
      "metadata": {
        "colab": {
          "base_uri": "https://localhost:8080/"
        },
        "id": "CRs-E5BMHO7h",
        "outputId": "6f0f8c5d-0479-4f7f-8c16-84ee08f8dc7c"
      },
      "outputs": [
        {
          "data": {
            "text/plain": [
              "Index(['Type', 'Days for shipping (real)', 'Days for shipment (scheduled)',\n",
              "       'Benefit per order', 'Sales per customer', 'Delivery Status',\n",
              "       'Late_delivery_risk', 'Customer City', 'Customer Segment',\n",
              "       'Department Name', 'Latitude', 'Longitude', 'Market', 'Order City',\n",
              "       'order date (DateOrders)', 'Order Item Discount',\n",
              "       'Order Item Discount Rate', 'Order Item Product Price',\n",
              "       'Order Item Profit Ratio', 'Order Item Quantity', 'Sales',\n",
              "       'Order Status', 'Product Price', 'Product Status',\n",
              "       'shipping date (DateOrders)', 'Shipping Mode'],\n",
              "      dtype='object')"
            ]
          },
          "execution_count": 15,
          "metadata": {},
          "output_type": "execute_result"
        }
      ],
      "source": [
        "df.columns"
      ]
    },
    {
      "attachments": {},
      "cell_type": "markdown",
      "metadata": {
        "id": "zSmoGv1cVm38"
      },
      "source": [
        "# General analysis"
      ]
    },
    {
      "attachments": {},
      "cell_type": "markdown",
      "metadata": {
        "id": "T1nW1wIJVqoK"
      },
      "source": [
        "**Market**"
      ]
    },
    {
      "cell_type": "code",
      "execution_count": 16,
      "metadata": {
        "colab": {
          "base_uri": "https://localhost:8080/",
          "height": 472
        },
        "id": "ijzzPRksVpSa",
        "outputId": "384356b1-fb06-40ca-b0db-0a2d9cc07df2"
      },
      "outputs": [
        {
          "data": {
            "image/png": "[encoded data removed]",
            "text/plain": [
              "<Figure size 640x480 with 1 Axes>"
            ]
          },
          "metadata": {},
          "output_type": "display_data"
        }
      ],
      "source": [
        "plt.show()\n",
        "sns.countplot(data=df, x=\"Market\", palette='viridis', order=df['Market'].value_counts().index)\n",
        "\n",
        "plt.xlabel(\"Market\")\n",
        "plt.ylabel(\"Count\")\n",
        "plt.title(\"Market distribution\")\n",
        "\n",
        "plt.show()"
      ]
    },
    {
      "attachments": {},
      "cell_type": "markdown",
      "metadata": {
        "id": "6GGdzHFwVvOu"
      },
      "source": [
        "**Scheduled shipping days vs real shipment days**"
      ]
    },
    {
      "attachments": {},
      "cell_type": "markdown",
      "metadata": {
        "id": "HRjHIFWJVynt"
      },
      "source": [
        "Scheduled"
      ]
    },
    {
      "cell_type": "code",
      "execution_count": 17,
      "metadata": {
        "colab": {
          "base_uri": "https://localhost:8080/",
          "height": 472
        },
        "id": "FkouzhZYVtxA",
        "outputId": "1f206266-dda3-4223-d9eb-8a162ca9b180"
      },
      "outputs": [
        {
          "data": {
            "image/png": "[encoded data removed]",
            "text/plain": [
              "<Figure size 640x480 with 1 Axes>"
            ]
          },
          "metadata": {},
          "output_type": "display_data"
        }
      ],
      "source": [
        "sns.countplot(data = df, x = \"Days for shipment (scheduled)\", palette = 'viridis')\n",
        "\n",
        "plt.xlabel(\"Days for shipment (scheduled)\")\n",
        "plt.ylabel(\"Count\")\n",
        "plt.title(\"Bar Plot of scheduled shipment days\")\n",
        "\n",
        "plt.show()"
      ]
    },
    {
      "attachments": {},
      "cell_type": "markdown",
      "metadata": {
        "id": "ZKTvlPmvV01n"
      },
      "source": [
        "Real"
      ]
    },
    {
      "cell_type": "code",
      "execution_count": 18,
      "metadata": {
        "colab": {
          "base_uri": "https://localhost:8080/",
          "height": 472
        },
        "id": "gxz79vM7V0Y7",
        "outputId": "0f67b0e4-0170-4a6a-f732-46314b81e2c2"
      },
      "outputs": [
        {
          "data": {
            "image/png": "[encoded data removed]",
            "text/plain": [
              "<Figure size 640x480 with 1 Axes>"
            ]
          },
          "metadata": {},
          "output_type": "display_data"
        }
      ],
      "source": [
        "sns.countplot(data = df, x = \"Days for shipping (real)\", palette = 'viridis')\n",
        "\n",
        "plt.xlabel(\"Days for shipping (real)\")\n",
        "plt.ylabel(\"Count\")\n",
        "plt.title(\"Bar Plot of real shipment days\")\n",
        "\n",
        "plt.show()"
      ]
    },
    {
      "attachments": {},
      "cell_type": "markdown",
      "metadata": {
        "id": "0WuwFlpSV4XT"
      },
      "source": [
        "**Delivery status distribution**"
      ]
    },
    {
      "cell_type": "code",
      "execution_count": 19,
      "metadata": {
        "colab": {
          "base_uri": "https://localhost:8080/",
          "height": 472
        },
        "id": "RFi7p2RPV3Nz",
        "outputId": "3cc50314-e412-4b0d-9d99-c7ec4ca1a798"
      },
      "outputs": [
        {
          "data": {
            "image/png": "[encoded data removed]",
            "text/plain": [
              "<Figure size 640x480 with 1 Axes>"
            ]
          },
          "metadata": {},
          "output_type": "display_data"
        }
      ],
      "source": [
        "sns.countplot(data = df, x = \"Delivery Status\", palette = 'viridis', order=df['Delivery Status'].value_counts().index)\n",
        "\n",
        "plt.xlabel(\"Delivery Status\")\n",
        "plt.ylabel(\"Count\")\n",
        "plt.title(\"Plot of delivery status\")\n",
        "\n",
        "plt.show()"
      ]
    },
    {
      "attachments": {},
      "cell_type": "markdown",
      "metadata": {
        "id": "-tvVDYqdV8m3"
      },
      "source": [
        "**Type**"
      ]
    },
    {
      "cell_type": "code",
      "execution_count": 20,
      "metadata": {
        "colab": {
          "base_uri": "https://localhost:8080/",
          "height": 472
        },
        "id": "VnPItTM8V_k2",
        "outputId": "73853323-a5ea-4de0-d4d4-7d5361193bc0"
      },
      "outputs": [
        {
          "data": {
            "image/png": "[encoded data removed]",
            "text/plain": [
              "<Figure size 640x480 with 1 Axes>"
            ]
          },
          "metadata": {},
          "output_type": "display_data"
        }
      ],
      "source": [
        "sns.countplot(data = df, x = \"Type\", palette = 'viridis')\n",
        "\n",
        "plt.xlabel(\"Type\")\n",
        "plt.ylabel(\"Count\")\n",
        "plt.title(\"Bar Plot of Type Variable\")\n",
        "\n",
        "plt.show()"
      ]
    },
    {
      "attachments": {},
      "cell_type": "markdown",
      "metadata": {
        "id": "aUPAzbRoWHQw"
      },
      "source": [
        "**Customer segment**"
      ]
    },
    {
      "cell_type": "code",
      "execution_count": 21,
      "metadata": {
        "colab": {
          "base_uri": "https://localhost:8080/",
          "height": 472
        },
        "id": "y-VWu-JVWGzz",
        "outputId": "a03f5e35-e7d7-4903-aa39-309efd6ab08c"
      },
      "outputs": [
        {
          "data": {
            "image/png": "[encoded data removed]",
            "text/plain": [
              "<Figure size 640x480 with 1 Axes>"
            ]
          },
          "metadata": {},
          "output_type": "display_data"
        }
      ],
      "source": [
        "sns.countplot(data = df, x = \"Customer Segment\", palette = 'viridis')\n",
        "\n",
        "plt.xlabel(\"Delivery Status\")\n",
        "plt.ylabel(\"Count\")\n",
        "plt.title(\"Plot of delivery status\")\n",
        "\n",
        "plt.show()"
      ]
    }
  ],
  "metadata": {
    "colab": {
      "collapsed_sections": [
        "izMoINvkWKxd",
        "ucjwwX6NWqZZ"
      ],
      "include_colab_link": true,
      "provenance": []
    },
    "kernelspec": {
      "display_name": "Python 3",
      "name": "python3"
    },
    "language_info": {
      "codemirror_mode": {
        "name": "ipython",
        "version": 3
      },
      "file_extension": ".py",
      "mimetype": "text/x-python",
      "name": "python",
      "nbconvert_exporter": "python",
      "pygments_lexer": "ipython3",
      "version": "3.9.13"
    }
  },
  "nbformat": 4,
  "nbformat_minor": 0
}

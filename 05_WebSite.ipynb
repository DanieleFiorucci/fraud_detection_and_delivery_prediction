{
  "cells": [
    {
      "attachments": {},
      "cell_type": "markdown",
      "metadata": {
        "colab_type": "text",
        "id": "view-in-github"
      },
      "source": [
        "<a href=\"https://colab.research.google.com/github/giakomorssi/Deloitte_Project/blob/main/05_WebSite.ipynb\" target=\"_parent\"><img src=\"https://colab.research.google.com/assets/colab-badge.svg\" alt=\"Open In Colab\"/></a>"
      ]
    },
    {
      "cell_type": "code",
      "execution_count": null,
      "metadata": {
        "colab": {
          "base_uri": "https://localhost:8080/"
        },
        "id": "2uViOOCHlTFY",
        "outputId": "efdb2823-541b-49d6-b5ee-e4efddd5675a"
      },
      "outputs": [],
      "source": [
        "'''\n",
        "Run this in the terminal\n",
        "git clone https://github.com/giakomorssi/Deloitte_Project\n",
        "'''"
      ]
    },
    {
      "cell_type": "code",
      "execution_count": 3,
      "metadata": {
        "colab": {
          "base_uri": "https://localhost:8080/"
        },
        "id": "8wiGrrb6J4AF",
        "outputId": "495efc2e-a8ff-43fd-bfd8-b06011ebbc70"
      },
      "outputs": [
        {
          "name": "stdout",
          "output_type": "stream",
          "text": [
            "Writing results.py\n"
          ]
        }
      ],
      "source": [
        "%%writefile results.py\n",
        "import streamlit as st\n",
        "from pyngrok import ngrok\n",
        "import pickle\n",
        "\n",
        "def page_home():\n",
        "    st.title(\"Deloitte Project\")\n",
        "\n",
        "    st.subheader(\"Team Members\")\n",
        "    st.write('Giacomo Rossi - 763391')\n",
        "    st.write('Daniele Fiorucci - 761461')\n",
        "    st.write('Costanza Placanica - 759641')\n",
        "\n",
        "    st.subheader(\"Project Description\")\n",
        "    st.write(\"Welcome to our website, where we offer state-of-the-art solutions for three critical tasks \\n - Fraud Detection,\\n - Logistic Delay Detection,\\n - Delivery Prediction.\")\n",
        "    \n",
        "    st.header(\"Fraud Detection\")\n",
        "    st.write(\"With our advanced fraud detection system, we help businesses identify and prevent fraudulent activities in their logistics operations. Our system is designed to detect patterns and anomalies in transactions, identify suspicious activities, and flag them for further investigation. This ensures that businesses can protect themselves from financial losses and maintain the integrity of their operations.\")\n",
        "    \n",
        "    st.header(\"Logistic Delay Detection\")\n",
        "    st.write(\"Logistic delays can be costly and disruptive to businesses. Our logistic delay detection system is designed to identify delays in real-time and provide alerts to logistics managers. This helps businesses take proactive measures to address the delays and keep their operations running smoothly. Our system uses advanced algorithms to analyze data from various sources, including transportation providers, weather forecasts, and traffic information, to identify potential delays.\")\n",
        "    \n",
        "    st.header(\"Delivery Prediction\")\n",
        "    st.write(\"With our delivery prediction system, businesses can provide accurate delivery estimates to their customers. Our system uses historical data and real-time information to predict delivery times accurately. This helps businesses improve customer satisfaction, reduce customer complaints, and optimize their logistics operations. Our system is highly customizable and can be tailored to meet the specific needs of each business.\")\n",
        "    \n",
        "    st.write(\"At our website, we are committed to providing high-quality solutions that help businesses improve their logistics operations. Contact us today to learn more about how we can help your business.\")\n",
        "\n",
        "def delivery():\n",
        "    import pandas as pd\n",
        "    from keras.models import load_model\n",
        "    import sys\n",
        "    sys.path.append('/content/Deloitte_Project')\n",
        "    from functions import prediction_pkl_st\n",
        "\n",
        "    # Load the dataframe and the model\n",
        "    df = pd.read_csv('SupplyChainDataset_prediction.csv')\n",
        "    with open('br.pkl', 'rb') as f:\n",
        "      model = pickle.load(f)\n",
        "\n",
        "    # Define the Streamlit app\n",
        "    st.title(\"Delivery Prediction\")\n",
        "    results = prediction_pkl_st(model, df)\n",
        "\n",
        "def fraud():\n",
        "    import pandas as pd\n",
        "    import seaborn as sns\n",
        "    from scipy.sparse import hstack\n",
        "    import pickle\n",
        "    from keras.models import load_model\n",
        "    import sys\n",
        "    sys.path.append('/content/Deloitte_Project')\n",
        "    from functions import fraud_detection_st\n",
        "\n",
        "    # Load the dataframe and the model\n",
        "    df = pd.read_csv('df_fraud.csv')\n",
        "    with open('vc.pkl', 'rb') as f:\n",
        "      model = pickle.load(f)\n",
        "\n",
        "    # Define the Streamlit app\n",
        "    st.title(\"Fraud Detection\")\n",
        "    results = fraud_detection_st(model, df)\n",
        "\n",
        "def delay():\n",
        "    import pandas as pd\n",
        "    from keras.models import load_model\n",
        "    import sys\n",
        "    import pickle\n",
        "    sys.path.append('/content/Deloitte_Project')\n",
        "    from functions import delay_detection_st\n",
        "\n",
        "    # Load the dataframe and the model\n",
        "    df = pd.read_csv('SupplyChainDataset_delay.csv')\n",
        "    with open(f'lr.pkl', 'rb') as f:\n",
        "        model = pickle.load(f)\n",
        "\n",
        "    # Define the Streamlit app\n",
        "    st.title(\"Delay Detection\")\n",
        "\n",
        "    results = delay_detection_st(model, df)\n",
        "\n",
        "# Define the Streamlit app\n",
        "st.set_page_config(page_title=\"Home\")\n",
        "\n",
        "# Define the sidebar menu options\n",
        "menu = [\"Home\", \"Delivery Prediction\", \"Fraud Detection\", \"Delay Detection\"]\n",
        "\n",
        "# Add a sidebar with menu options\n",
        "selection = st.sidebar.selectbox(\"Select a page\", menu)\n",
        "\n",
        "# Show the appropriate page based on the user's selection\n",
        "if selection == \"Home\":\n",
        "    page_home()\n",
        "elif selection == \"Delivery Prediction\":\n",
        "    delivery()\n",
        "elif selection == \"Fraud Detection\":\n",
        "    fraud()\n",
        "elif selection == \"Delay Detection\":\n",
        "    delay()"
      ]
    },
    {
      "cell_type": "code",
      "execution_count": null,
      "metadata": {
        "colab": {
          "base_uri": "https://localhost:8080/"
        },
        "id": "NQ6MiRrXOWtd",
        "outputId": "190622bf-697d-46c4-973b-fd9d4ba27086"
      },
      "outputs": [],
      "source": [
        "'''\n",
        "pip install --upgrade jinja2 (this may needed)\n",
        "run the following in the terminal\n",
        "streamlit run results.py\n",
        "'''"
      ]
    }
  ],
  "metadata": {
    "colab": {
      "authorship_tag": "ABX9TyMZazB1lMxefWR8s6yM0Rm4",
      "include_colab_link": true,
      "mount_file_id": "1LELcG_hy9JV3NfHduyxaVgm2icRd75-o",
      "provenance": []
    },
    "kernelspec": {
      "display_name": "Python 3",
      "name": "python3"
    },
    "language_info": {
      "codemirror_mode": {
        "name": "ipython",
        "version": 3
      },
      "file_extension": ".py",
      "mimetype": "text/x-python",
      "name": "python",
      "nbconvert_exporter": "python",
      "pygments_lexer": "ipython3",
      "version": "3.9.13"
    }
  },
  "nbformat": 4,
  "nbformat_minor": 0
}
